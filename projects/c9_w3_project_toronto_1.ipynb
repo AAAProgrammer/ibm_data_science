{
  "nbformat": 4,
  "nbformat_minor": 0,
  "metadata": {
    "colab": {
      "name": "c9_w3_prj_toronto_1.ipynb",
      "provenance": []
    },
    "kernelspec": {
      "name": "python3",
      "display_name": "Python 3"
    }
  },
  "cells": [
    {
      "cell_type": "markdown",
      "metadata": {
        "id": "2gxDs-PhwZMP",
        "colab_type": "text"
      },
      "source": [
        "## Peer-graded Assignment: Segmenting and Clustering Neighborhoods in Toronto"
      ]
    },
    {
      "cell_type": "markdown",
      "metadata": {
        "id": "fef6dEouzOZJ",
        "colab_type": "text"
      },
      "source": [
        "### General instruction"
      ]
    },
    {
      "cell_type": "markdown",
      "metadata": {
        "id": "NB8XLjLZwfuu",
        "colab_type": "text"
      },
      "source": [
        "For this assignment, you will be required to explore and cluster the neighborhoods in Toronto.\n",
        "\n",
        "1. Start by creating a new Notebook for this assignment.\n",
        "2. Use the Notebook to build the code to scrape the following [Wikipedia page](https://en.wikipedia.org/wiki/List_of_postal_codes_of_Canada:_M), in order to obtain the data that is in the table of postal codes and to transform the data into a pandas dataframe like [this one](https://d3c33hcgiwev3.cloudfront.net/imageAssetProxy.v1/7JXaz3NNEeiMwApe4i-fLg_40e690ae0e927abda2d4bde7d94ed133_Screen-Shot-2018-06-18-at-7.17.57-PM.png?expiry=1587945600000&hmac=_iVOKODgI1gxqufyqluRcCVC6xFgkxzvyMCcb_PknO8)\n",
        "\n",
        "3. To create the above dataframe:\n",
        "\n",
        "* The dataframe will consist of three columns: PostalCode, Borough, and Neighborhood\n",
        "* Only process the cells that have an assigned borough. Ignore cells with a borough that is Not assigned.\n",
        "* More than one neighborhood can exist in one postal code area. For example, in the table on the Wikipedia page, you will notice that M5A is listed twice and has two neighborhoods: Harbourfront and Regent Park. These two rows will be combined into one row with the neighborhoods separated with a comma as shown in row 11 in the above table.\n",
        "* If a cell has a borough but a Not assigned neighborhood, then the neighborhood will be the same as the borough.\n",
        "* Clean your Notebook and add Markdown cells to explain your work and any assumptions you are making.\n",
        "* In the last cell of your notebook, use the .shape method to print the number of rows of your dataframe.\n",
        "4. Submit a link to your Notebook on your Github repository. (10 marks)"
      ]
    },
    {
      "cell_type": "markdown",
      "metadata": {
        "id": "9C5QfJvux4Ao",
        "colab_type": "text"
      },
      "source": [
        "### Implementation note"
      ]
    },
    {
      "cell_type": "markdown",
      "metadata": {
        "id": "hfpdf4vxx77h",
        "colab_type": "text"
      },
      "source": [
        "**Note:** There are different website scraping libraries and packages in Python. For scraping the above table, you can simply use pandas to read the table into a pandas dataframe.\n",
        "\n",
        "* Another way, which would help to learn for more complicated cases of web scraping is using the BeautifulSoup package. Here is the package's main documentation page: http://beautiful-soup-4.readthedocs.io/en/latest/\n",
        "\n",
        "* The package is so popular that there is a plethora of tutorials and examples on how to use it. Here is a very good Youtube video on how to use the BeautifulSoup package: https://www.youtube.com/watch?v=ng2o98k983k\n",
        "\n",
        "* Use pandas, or the BeautifulSoup package, or any other way you are comfortable with to transform the data in the table on the Wikipedia page into the above pandas dataframe.\n",
        "\n",
        "* Now that you have built a dataframe of the postal code of each neighborhood along with the borough name and neighborhood name, in order to utilize the Foursquare location data, we need to get the latitude and the longitude coordinates of each neighborhood.\n",
        "\n",
        "* In an older version of this course, we were leveraging the Google Maps Geocoding API to get the latitude and the longitude coordinates of each neighborhood. However, recently Google started charging for their API: http://geoawesomeness.com/developers-up-in-arms-over-google-maps-api-insane-price-hike/, so we will use the Geocoder Python package instead: https://geocoder.readthedocs.io/index.html.\n",
        "\n",
        "* The problem with this Package is you have to be persistent sometimes in order to get the geographical coordinates of a given postal code. So you can make a call to get the latitude and longitude coordinates of a given postal code and the result would be None, and then make the call again and you would get the coordinates. So, in order to make sure that you get the coordinates for all of our neighborhoods, you can run a while loop for each postal code. Taking postal code M5G as an example, your code would look something like this:\n",
        "\n"
      ]
    },
    {
      "cell_type": "code",
      "metadata": {
        "id": "4JIc0Y4pwB8Z",
        "colab_type": "code",
        "colab": {}
      },
      "source": [
        "import geocoder # import geocoder\n",
        "\n",
        "# initialize your variable to None\n",
        "lat_lng_coords = None\n",
        "\n",
        "# loop until you get the coordinates\n",
        "while(lat_lng_coords is None):\n",
        "  g = geocoder.google('{}, Toronto, Ontario'.format(postal_code))\n",
        "  lat_lng_coords = g.latlng\n",
        "\n",
        "latitude = lat_lng_coords[0]\n",
        "longitude = lat_lng_coords[1]"
      ],
      "execution_count": 0,
      "outputs": []
    },
    {
      "cell_type": "markdown",
      "metadata": {
        "id": "S6Jg3Terya_U",
        "colab_type": "text"
      },
      "source": [
        "* Given that this package can be very unreliable, in case you are not able to get the geographical coordinates of the neighborhoods using the Geocoder package, here is a link to a csv file that has the geographical coordinates of each postal code: http://cocl.us/Geospatial_data\n",
        "\n",
        "* Use the Geocoder package or the csv file to create [this following dataframe](https://d3c33hcgiwev3.cloudfront.net/imageAssetProxy.v1/HZ3jNHNOEeiMwApe4i-fLg_f44f0f10ccfaf42fcbdba9813364e173_Screen-Shot-2018-06-18-at-7.18.16-PM.png?expiry=1587945600000&hmac=_oiVO33uaGWsVZEV3kQOBxBKn01ZodeWLonTl3JYIM4)\n",
        "\n",
        "**Important Note:**\n",
        "* There is a limit on how many times you can call geocoder.google function. It is 2500 times per day. This should be way more than enough for you to get acquainted with the package and to use it to get the geographical coordinates of the neighborhoods in the Toronto.\n",
        "\n",
        "Explore and cluster the neighborhoods in Toronto. You can decide to work with only boroughs that contain the word Toronto and then replicate the same analysis we did to the New York City data. It is up to you.\n",
        "\n",
        "Just make sure:\n",
        "\n",
        "* to add enough Markdown cells to explain what you decided to do and to report any observations you make.\n",
        "* to generate maps to visualize your neighborhoods and how they cluster together."
      ]
    },
    {
      "cell_type": "markdown",
      "metadata": {
        "id": "D2t7RBHvzQnZ",
        "colab_type": "text"
      },
      "source": [
        "### Code"
      ]
    },
    {
      "cell_type": "code",
      "metadata": {
        "id": "sU8mL7VWzVvN",
        "colab_type": "code",
        "colab": {}
      },
      "source": [
        "from bs4 import BeautifulSoup\n",
        "import requests\n",
        "import pandas as pd"
      ],
      "execution_count": 0,
      "outputs": []
    },
    {
      "cell_type": "markdown",
      "metadata": {
        "id": "gtP2DckMuqT_",
        "colab_type": "text"
      },
      "source": [
        "Scrape the list of postal codes of Canada using `BeautifulSoup`"
      ]
    },
    {
      "cell_type": "code",
      "metadata": {
        "id": "zNef_wTb6W_9",
        "colab_type": "code",
        "colab": {}
      },
      "source": [
        "can_postal_url = \"https://en.wikipedia.org/wiki/List_of_postal_codes_of_Canada:_M\"\n",
        "source = requests.get(can_postal_url).text\n",
        "\n",
        "can_html  = BeautifulSoup(source, 'xml')\n",
        "can_html = can_html.find('table')\n",
        "\n",
        "'''\n",
        "The structure of the return result will be like that:\n",
        "\n",
        "<?xml version=\"1.0\" encoding=\"utf-8\"?>\n",
        "<!DOCTYPE html>\n",
        "<html class=\"client-nojs\" dir=\"ltr\" lang=\"en\">\n",
        "<head>\n",
        "<meta charset=\"UTF-8\"/>\n",
        "<title>List of postal codes of Canada: M - Wikipedia</title>\n",
        ".....\n",
        "<table class=\"wikitable sortable\">\n",
        ".....\n",
        "table content\n",
        ".....\n",
        "</table>\n",
        "'''"
      ],
      "execution_count": 0,
      "outputs": []
    },
    {
      "cell_type": "markdown",
      "metadata": {
        "id": "k9QKAP7huuWl",
        "colab_type": "text"
      },
      "source": [
        "Convert the HTML content to dataframe\n"
      ]
    },
    {
      "cell_type": "code",
      "metadata": {
        "id": "yUyig2DxTqN_",
        "colab_type": "code",
        "colab": {
          "base_uri": "https://localhost:8080/",
          "height": 197
        },
        "outputId": "b723670a-dd84-496e-a3aa-89a27d74120f"
      },
      "source": [
        "# Three columns of the table: PostalCode, Borough, and Neighborhood\n",
        "col_names = ['Postalcode', 'Borough', 'Neighborhood']\n",
        "can_df = pd.DataFrame(columns = col_names)\n",
        "\n",
        "# Search all the postcode, borough, neighborhood \n",
        "for tr_cell in can_html.find_all('tr'):\n",
        "    row_data=[]\n",
        "    for td_cell in tr_cell.find_all('td'):\n",
        "        row_data.append(td_cell.text.strip())\n",
        "    if len(row_data)==3:\n",
        "        can_df.loc[len(can_df)] = row_data\n",
        "\n",
        "can_df.head()"
      ],
      "execution_count": 39,
      "outputs": [
        {
          "output_type": "execute_result",
          "data": {
            "text/html": [
              "<div>\n",
              "<style scoped>\n",
              "    .dataframe tbody tr th:only-of-type {\n",
              "        vertical-align: middle;\n",
              "    }\n",
              "\n",
              "    .dataframe tbody tr th {\n",
              "        vertical-align: top;\n",
              "    }\n",
              "\n",
              "    .dataframe thead th {\n",
              "        text-align: right;\n",
              "    }\n",
              "</style>\n",
              "<table border=\"1\" class=\"dataframe\">\n",
              "  <thead>\n",
              "    <tr style=\"text-align: right;\">\n",
              "      <th></th>\n",
              "      <th>Postalcode</th>\n",
              "      <th>Borough</th>\n",
              "      <th>Neighborhood</th>\n",
              "    </tr>\n",
              "  </thead>\n",
              "  <tbody>\n",
              "    <tr>\n",
              "      <th>0</th>\n",
              "      <td>M1A</td>\n",
              "      <td>Not assigned</td>\n",
              "      <td></td>\n",
              "    </tr>\n",
              "    <tr>\n",
              "      <th>1</th>\n",
              "      <td>M2A</td>\n",
              "      <td>Not assigned</td>\n",
              "      <td></td>\n",
              "    </tr>\n",
              "    <tr>\n",
              "      <th>2</th>\n",
              "      <td>M3A</td>\n",
              "      <td>North York</td>\n",
              "      <td>Parkwoods</td>\n",
              "    </tr>\n",
              "    <tr>\n",
              "      <th>3</th>\n",
              "      <td>M4A</td>\n",
              "      <td>North York</td>\n",
              "      <td>Victoria Village</td>\n",
              "    </tr>\n",
              "    <tr>\n",
              "      <th>4</th>\n",
              "      <td>M5A</td>\n",
              "      <td>Downtown Toronto</td>\n",
              "      <td>Regent Park / Harbourfront</td>\n",
              "    </tr>\n",
              "  </tbody>\n",
              "</table>\n",
              "</div>"
            ],
            "text/plain": [
              "  Postalcode           Borough                Neighborhood\n",
              "0        M1A      Not assigned                            \n",
              "1        M2A      Not assigned                            \n",
              "2        M3A        North York                   Parkwoods\n",
              "3        M4A        North York            Victoria Village\n",
              "4        M5A  Downtown Toronto  Regent Park / Harbourfront"
            ]
          },
          "metadata": {
            "tags": []
          },
          "execution_count": 39
        }
      ]
    },
    {
      "cell_type": "markdown",
      "metadata": {
        "id": "O2fiwehNu-L2",
        "colab_type": "text"
      },
      "source": [
        "**Cleaning data**\n",
        "* Only process the cells that have an assigned borough. Ignore cells with a borough that is **Not assigned**\n",
        "* If a cell has a borough but a **Not assigned** neighborhood, then the neighborhood will be the same as the borough."
      ]
    },
    {
      "cell_type": "code",
      "metadata": {
        "id": "4KOmWdjY6kS8",
        "colab_type": "code",
        "colab": {
          "base_uri": "https://localhost:8080/",
          "height": 197
        },
        "outputId": "f5f644c9-6569-42f1-876b-15ebe3aaa8b3"
      },
      "source": [
        "# Clone can_df to df\n",
        "df = can_df\n",
        "\n",
        "#  Clean NA cells and cells whose `Borough` is `Not assigned`\n",
        "df = df.dropna()\n",
        "df = df[df['Borough'] != 'Not assigned']\n",
        "\n",
        "# If a cell has a borough but a Not assigned neighborhood, \n",
        "# then the neighborhood will be the same as the borough.\n",
        "not_assigned_ids = df['Neighborhood'] == 'Not assigned'\n",
        "df['Neighborhood'][not_assigned_ids] = df['Borough'][not_assigned_ids]\n",
        "\n",
        "# Replace '/' by ','\n",
        "df['Neighborhood'] = df['Neighborhood'].str.replace(' /', ',')\n",
        "df.head()"
      ],
      "execution_count": 47,
      "outputs": [
        {
          "output_type": "execute_result",
          "data": {
            "text/html": [
              "<div>\n",
              "<style scoped>\n",
              "    .dataframe tbody tr th:only-of-type {\n",
              "        vertical-align: middle;\n",
              "    }\n",
              "\n",
              "    .dataframe tbody tr th {\n",
              "        vertical-align: top;\n",
              "    }\n",
              "\n",
              "    .dataframe thead th {\n",
              "        text-align: right;\n",
              "    }\n",
              "</style>\n",
              "<table border=\"1\" class=\"dataframe\">\n",
              "  <thead>\n",
              "    <tr style=\"text-align: right;\">\n",
              "      <th></th>\n",
              "      <th>Postalcode</th>\n",
              "      <th>Borough</th>\n",
              "      <th>Neighborhood</th>\n",
              "    </tr>\n",
              "  </thead>\n",
              "  <tbody>\n",
              "    <tr>\n",
              "      <th>2</th>\n",
              "      <td>M3A</td>\n",
              "      <td>North York</td>\n",
              "      <td>Parkwoods</td>\n",
              "    </tr>\n",
              "    <tr>\n",
              "      <th>3</th>\n",
              "      <td>M4A</td>\n",
              "      <td>North York</td>\n",
              "      <td>Victoria Village</td>\n",
              "    </tr>\n",
              "    <tr>\n",
              "      <th>4</th>\n",
              "      <td>M5A</td>\n",
              "      <td>Downtown Toronto</td>\n",
              "      <td>Regent Park, Harbourfront</td>\n",
              "    </tr>\n",
              "    <tr>\n",
              "      <th>5</th>\n",
              "      <td>M6A</td>\n",
              "      <td>North York</td>\n",
              "      <td>Lawrence Manor, Lawrence Heights</td>\n",
              "    </tr>\n",
              "    <tr>\n",
              "      <th>6</th>\n",
              "      <td>M7A</td>\n",
              "      <td>Downtown Toronto</td>\n",
              "      <td>Queen's Park, Ontario Provincial Government</td>\n",
              "    </tr>\n",
              "  </tbody>\n",
              "</table>\n",
              "</div>"
            ],
            "text/plain": [
              "  Postalcode           Borough                                 Neighborhood\n",
              "2        M3A        North York                                    Parkwoods\n",
              "3        M4A        North York                             Victoria Village\n",
              "4        M5A  Downtown Toronto                    Regent Park, Harbourfront\n",
              "5        M6A        North York             Lawrence Manor, Lawrence Heights\n",
              "6        M7A  Downtown Toronto  Queen's Park, Ontario Provincial Government"
            ]
          },
          "metadata": {
            "tags": []
          },
          "execution_count": 47
        }
      ]
    },
    {
      "cell_type": "markdown",
      "metadata": {
        "id": "m_Ww8Ki3PYEB",
        "colab_type": "text"
      },
      "source": [
        "* More than one neighborhood can exist in one postal code area. For example, in the table on the Wikipedia page, you will notice that **M5A** is listed twice and has two neighborhoods: **Harbourfront** and **Regent Park**. These two rows will be combined into one row with the neighborhoods separated with a comma as shown in row 11 in the above table."
      ]
    },
    {
      "cell_type": "code",
      "metadata": {
        "id": "iWi041vCJ4l6",
        "colab_type": "code",
        "colab": {
          "base_uri": "https://localhost:8080/",
          "height": 197
        },
        "outputId": "d191a291-0072-44ba-d717-5cbe0ab02186"
      },
      "source": [
        "# Merge cells having the same postal code\n",
        "temp = df.groupby('Postalcode')['Neighborhood'].apply(lambda x: \"%s\" % ', '.join(x))\n",
        "temp = temp.reset_index(drop=False)\n",
        "temp.rename(columns={'Neighborhood':'Neighborhood_joined'}, inplace=True)\n",
        "\n",
        "temp.head()"
      ],
      "execution_count": 48,
      "outputs": [
        {
          "output_type": "execute_result",
          "data": {
            "text/html": [
              "<div>\n",
              "<style scoped>\n",
              "    .dataframe tbody tr th:only-of-type {\n",
              "        vertical-align: middle;\n",
              "    }\n",
              "\n",
              "    .dataframe tbody tr th {\n",
              "        vertical-align: top;\n",
              "    }\n",
              "\n",
              "    .dataframe thead th {\n",
              "        text-align: right;\n",
              "    }\n",
              "</style>\n",
              "<table border=\"1\" class=\"dataframe\">\n",
              "  <thead>\n",
              "    <tr style=\"text-align: right;\">\n",
              "      <th></th>\n",
              "      <th>Postalcode</th>\n",
              "      <th>Neighborhood_joined</th>\n",
              "    </tr>\n",
              "  </thead>\n",
              "  <tbody>\n",
              "    <tr>\n",
              "      <th>0</th>\n",
              "      <td>M1B</td>\n",
              "      <td>Malvern, Rouge</td>\n",
              "    </tr>\n",
              "    <tr>\n",
              "      <th>1</th>\n",
              "      <td>M1C</td>\n",
              "      <td>Rouge Hill, Port Union, Highland Creek</td>\n",
              "    </tr>\n",
              "    <tr>\n",
              "      <th>2</th>\n",
              "      <td>M1E</td>\n",
              "      <td>Guildwood, Morningside, West Hill</td>\n",
              "    </tr>\n",
              "    <tr>\n",
              "      <th>3</th>\n",
              "      <td>M1G</td>\n",
              "      <td>Woburn</td>\n",
              "    </tr>\n",
              "    <tr>\n",
              "      <th>4</th>\n",
              "      <td>M1H</td>\n",
              "      <td>Cedarbrae</td>\n",
              "    </tr>\n",
              "  </tbody>\n",
              "</table>\n",
              "</div>"
            ],
            "text/plain": [
              "  Postalcode                     Neighborhood_joined\n",
              "0        M1B                          Malvern, Rouge\n",
              "1        M1C  Rouge Hill, Port Union, Highland Creek\n",
              "2        M1E       Guildwood, Morningside, West Hill\n",
              "3        M1G                                  Woburn\n",
              "4        M1H                               Cedarbrae"
            ]
          },
          "metadata": {
            "tags": []
          },
          "execution_count": 48
        }
      ]
    },
    {
      "cell_type": "code",
      "metadata": {
        "id": "Hakjq2yQQHj8",
        "colab_type": "code",
        "colab": {
          "base_uri": "https://localhost:8080/",
          "height": 197
        },
        "outputId": "18b73c4c-21c4-4728-c26b-1c045f3ef1bc"
      },
      "source": [
        "df_merge = pd.merge(df, temp, on='Postalcode')\n",
        "df_merge.drop(['Neighborhood'], axis=1, inplace=True)\n",
        "df_merge.drop_duplicates(inplace=True)\n",
        "df_merge.rename(columns={'Neighborhood_joined':'Neighborhood'}, inplace=True)\n",
        "df_merge.head()"
      ],
      "execution_count": 49,
      "outputs": [
        {
          "output_type": "execute_result",
          "data": {
            "text/html": [
              "<div>\n",
              "<style scoped>\n",
              "    .dataframe tbody tr th:only-of-type {\n",
              "        vertical-align: middle;\n",
              "    }\n",
              "\n",
              "    .dataframe tbody tr th {\n",
              "        vertical-align: top;\n",
              "    }\n",
              "\n",
              "    .dataframe thead th {\n",
              "        text-align: right;\n",
              "    }\n",
              "</style>\n",
              "<table border=\"1\" class=\"dataframe\">\n",
              "  <thead>\n",
              "    <tr style=\"text-align: right;\">\n",
              "      <th></th>\n",
              "      <th>Postalcode</th>\n",
              "      <th>Borough</th>\n",
              "      <th>Neighborhood</th>\n",
              "    </tr>\n",
              "  </thead>\n",
              "  <tbody>\n",
              "    <tr>\n",
              "      <th>0</th>\n",
              "      <td>M3A</td>\n",
              "      <td>North York</td>\n",
              "      <td>Parkwoods</td>\n",
              "    </tr>\n",
              "    <tr>\n",
              "      <th>1</th>\n",
              "      <td>M4A</td>\n",
              "      <td>North York</td>\n",
              "      <td>Victoria Village</td>\n",
              "    </tr>\n",
              "    <tr>\n",
              "      <th>2</th>\n",
              "      <td>M5A</td>\n",
              "      <td>Downtown Toronto</td>\n",
              "      <td>Regent Park, Harbourfront</td>\n",
              "    </tr>\n",
              "    <tr>\n",
              "      <th>3</th>\n",
              "      <td>M6A</td>\n",
              "      <td>North York</td>\n",
              "      <td>Lawrence Manor, Lawrence Heights</td>\n",
              "    </tr>\n",
              "    <tr>\n",
              "      <th>4</th>\n",
              "      <td>M7A</td>\n",
              "      <td>Downtown Toronto</td>\n",
              "      <td>Queen's Park, Ontario Provincial Government</td>\n",
              "    </tr>\n",
              "  </tbody>\n",
              "</table>\n",
              "</div>"
            ],
            "text/plain": [
              "  Postalcode           Borough                                 Neighborhood\n",
              "0        M3A        North York                                    Parkwoods\n",
              "1        M4A        North York                             Victoria Village\n",
              "2        M5A  Downtown Toronto                    Regent Park, Harbourfront\n",
              "3        M6A        North York             Lawrence Manor, Lawrence Heights\n",
              "4        M7A  Downtown Toronto  Queen's Park, Ontario Provincial Government"
            ]
          },
          "metadata": {
            "tags": []
          },
          "execution_count": 49
        }
      ]
    },
    {
      "cell_type": "code",
      "metadata": {
        "id": "_Di-R6P6UmTb",
        "colab_type": "code",
        "colab": {
          "base_uri": "https://localhost:8080/",
          "height": 34
        },
        "outputId": "c340299a-b71c-492f-9f9f-386b9eb42f60"
      },
      "source": [
        "df_merge.shape"
      ],
      "execution_count": 53,
      "outputs": [
        {
          "output_type": "execute_result",
          "data": {
            "text/plain": [
              "(103, 3)"
            ]
          },
          "metadata": {
            "tags": []
          },
          "execution_count": 53
        }
      ]
    }
  ]
}